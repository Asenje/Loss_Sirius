{
  "nbformat": 4,
  "nbformat_minor": 0,
  "metadata": {
    "colab": {
      "provenance": []
    },
    "kernelspec": {
      "name": "python3",
      "display_name": "Python 3"
    },
    "language_info": {
      "name": "python"
    },
    "widgets": {
      "application/vnd.jupyter.widget-state+json": {
        "c7232fed28ca4cbc85fd081fa0aee033": {
          "model_module": "@jupyter-widgets/controls",
          "model_name": "HBoxModel",
          "model_module_version": "1.5.0",
          "state": {
            "_dom_classes": [],
            "_model_module": "@jupyter-widgets/controls",
            "_model_module_version": "1.5.0",
            "_model_name": "HBoxModel",
            "_view_count": null,
            "_view_module": "@jupyter-widgets/controls",
            "_view_module_version": "1.5.0",
            "_view_name": "HBoxView",
            "box_style": "",
            "children": [
              "IPY_MODEL_4d15c7e1ec0d4e169b7306450ff26f3f",
              "IPY_MODEL_28432c085e64457e85886b07a98b50d3",
              "IPY_MODEL_6993f271bc484f8e86364479e4a730f7"
            ],
            "layout": "IPY_MODEL_7196bb662eff4b4ab0e7e024f15ec634"
          }
        },
        "4d15c7e1ec0d4e169b7306450ff26f3f": {
          "model_module": "@jupyter-widgets/controls",
          "model_name": "HTMLModel",
          "model_module_version": "1.5.0",
          "state": {
            "_dom_classes": [],
            "_model_module": "@jupyter-widgets/controls",
            "_model_module_version": "1.5.0",
            "_model_name": "HTMLModel",
            "_view_count": null,
            "_view_module": "@jupyter-widgets/controls",
            "_view_module_version": "1.5.0",
            "_view_name": "HTMLView",
            "description": "",
            "description_tooltip": null,
            "layout": "IPY_MODEL_f8faacb7b01f4b758140b4a896bc5bda",
            "placeholder": "​",
            "style": "IPY_MODEL_6b0d8990229f430db69998648ceb6cbc",
            "value": "Map: 100%"
          }
        },
        "28432c085e64457e85886b07a98b50d3": {
          "model_module": "@jupyter-widgets/controls",
          "model_name": "FloatProgressModel",
          "model_module_version": "1.5.0",
          "state": {
            "_dom_classes": [],
            "_model_module": "@jupyter-widgets/controls",
            "_model_module_version": "1.5.0",
            "_model_name": "FloatProgressModel",
            "_view_count": null,
            "_view_module": "@jupyter-widgets/controls",
            "_view_module_version": "1.5.0",
            "_view_name": "ProgressView",
            "bar_style": "success",
            "description": "",
            "description_tooltip": null,
            "layout": "IPY_MODEL_7c6169fcc94a498aad81509f20dd41b8",
            "max": 1,
            "min": 0,
            "orientation": "horizontal",
            "style": "IPY_MODEL_2e0389f1e7ef4398ab6372255de23a44",
            "value": 1
          }
        },
        "6993f271bc484f8e86364479e4a730f7": {
          "model_module": "@jupyter-widgets/controls",
          "model_name": "HTMLModel",
          "model_module_version": "1.5.0",
          "state": {
            "_dom_classes": [],
            "_model_module": "@jupyter-widgets/controls",
            "_model_module_version": "1.5.0",
            "_model_name": "HTMLModel",
            "_view_count": null,
            "_view_module": "@jupyter-widgets/controls",
            "_view_module_version": "1.5.0",
            "_view_name": "HTMLView",
            "description": "",
            "description_tooltip": null,
            "layout": "IPY_MODEL_383efbf5759b4905a1df60aab2256151",
            "placeholder": "​",
            "style": "IPY_MODEL_0c731b4e615b4d74b26280cd804fa451",
            "value": " 1/1 [00:00&lt;00:00, 33.30 examples/s]"
          }
        },
        "7196bb662eff4b4ab0e7e024f15ec634": {
          "model_module": "@jupyter-widgets/base",
          "model_name": "LayoutModel",
          "model_module_version": "1.2.0",
          "state": {
            "_model_module": "@jupyter-widgets/base",
            "_model_module_version": "1.2.0",
            "_model_name": "LayoutModel",
            "_view_count": null,
            "_view_module": "@jupyter-widgets/base",
            "_view_module_version": "1.2.0",
            "_view_name": "LayoutView",
            "align_content": null,
            "align_items": null,
            "align_self": null,
            "border": null,
            "bottom": null,
            "display": null,
            "flex": null,
            "flex_flow": null,
            "grid_area": null,
            "grid_auto_columns": null,
            "grid_auto_flow": null,
            "grid_auto_rows": null,
            "grid_column": null,
            "grid_gap": null,
            "grid_row": null,
            "grid_template_areas": null,
            "grid_template_columns": null,
            "grid_template_rows": null,
            "height": null,
            "justify_content": null,
            "justify_items": null,
            "left": null,
            "margin": null,
            "max_height": null,
            "max_width": null,
            "min_height": null,
            "min_width": null,
            "object_fit": null,
            "object_position": null,
            "order": null,
            "overflow": null,
            "overflow_x": null,
            "overflow_y": null,
            "padding": null,
            "right": null,
            "top": null,
            "visibility": null,
            "width": null
          }
        },
        "f8faacb7b01f4b758140b4a896bc5bda": {
          "model_module": "@jupyter-widgets/base",
          "model_name": "LayoutModel",
          "model_module_version": "1.2.0",
          "state": {
            "_model_module": "@jupyter-widgets/base",
            "_model_module_version": "1.2.0",
            "_model_name": "LayoutModel",
            "_view_count": null,
            "_view_module": "@jupyter-widgets/base",
            "_view_module_version": "1.2.0",
            "_view_name": "LayoutView",
            "align_content": null,
            "align_items": null,
            "align_self": null,
            "border": null,
            "bottom": null,
            "display": null,
            "flex": null,
            "flex_flow": null,
            "grid_area": null,
            "grid_auto_columns": null,
            "grid_auto_flow": null,
            "grid_auto_rows": null,
            "grid_column": null,
            "grid_gap": null,
            "grid_row": null,
            "grid_template_areas": null,
            "grid_template_columns": null,
            "grid_template_rows": null,
            "height": null,
            "justify_content": null,
            "justify_items": null,
            "left": null,
            "margin": null,
            "max_height": null,
            "max_width": null,
            "min_height": null,
            "min_width": null,
            "object_fit": null,
            "object_position": null,
            "order": null,
            "overflow": null,
            "overflow_x": null,
            "overflow_y": null,
            "padding": null,
            "right": null,
            "top": null,
            "visibility": null,
            "width": null
          }
        },
        "6b0d8990229f430db69998648ceb6cbc": {
          "model_module": "@jupyter-widgets/controls",
          "model_name": "DescriptionStyleModel",
          "model_module_version": "1.5.0",
          "state": {
            "_model_module": "@jupyter-widgets/controls",
            "_model_module_version": "1.5.0",
            "_model_name": "DescriptionStyleModel",
            "_view_count": null,
            "_view_module": "@jupyter-widgets/base",
            "_view_module_version": "1.2.0",
            "_view_name": "StyleView",
            "description_width": ""
          }
        },
        "7c6169fcc94a498aad81509f20dd41b8": {
          "model_module": "@jupyter-widgets/base",
          "model_name": "LayoutModel",
          "model_module_version": "1.2.0",
          "state": {
            "_model_module": "@jupyter-widgets/base",
            "_model_module_version": "1.2.0",
            "_model_name": "LayoutModel",
            "_view_count": null,
            "_view_module": "@jupyter-widgets/base",
            "_view_module_version": "1.2.0",
            "_view_name": "LayoutView",
            "align_content": null,
            "align_items": null,
            "align_self": null,
            "border": null,
            "bottom": null,
            "display": null,
            "flex": null,
            "flex_flow": null,
            "grid_area": null,
            "grid_auto_columns": null,
            "grid_auto_flow": null,
            "grid_auto_rows": null,
            "grid_column": null,
            "grid_gap": null,
            "grid_row": null,
            "grid_template_areas": null,
            "grid_template_columns": null,
            "grid_template_rows": null,
            "height": null,
            "justify_content": null,
            "justify_items": null,
            "left": null,
            "margin": null,
            "max_height": null,
            "max_width": null,
            "min_height": null,
            "min_width": null,
            "object_fit": null,
            "object_position": null,
            "order": null,
            "overflow": null,
            "overflow_x": null,
            "overflow_y": null,
            "padding": null,
            "right": null,
            "top": null,
            "visibility": null,
            "width": null
          }
        },
        "2e0389f1e7ef4398ab6372255de23a44": {
          "model_module": "@jupyter-widgets/controls",
          "model_name": "ProgressStyleModel",
          "model_module_version": "1.5.0",
          "state": {
            "_model_module": "@jupyter-widgets/controls",
            "_model_module_version": "1.5.0",
            "_model_name": "ProgressStyleModel",
            "_view_count": null,
            "_view_module": "@jupyter-widgets/base",
            "_view_module_version": "1.2.0",
            "_view_name": "StyleView",
            "bar_color": null,
            "description_width": ""
          }
        },
        "383efbf5759b4905a1df60aab2256151": {
          "model_module": "@jupyter-widgets/base",
          "model_name": "LayoutModel",
          "model_module_version": "1.2.0",
          "state": {
            "_model_module": "@jupyter-widgets/base",
            "_model_module_version": "1.2.0",
            "_model_name": "LayoutModel",
            "_view_count": null,
            "_view_module": "@jupyter-widgets/base",
            "_view_module_version": "1.2.0",
            "_view_name": "LayoutView",
            "align_content": null,
            "align_items": null,
            "align_self": null,
            "border": null,
            "bottom": null,
            "display": null,
            "flex": null,
            "flex_flow": null,
            "grid_area": null,
            "grid_auto_columns": null,
            "grid_auto_flow": null,
            "grid_auto_rows": null,
            "grid_column": null,
            "grid_gap": null,
            "grid_row": null,
            "grid_template_areas": null,
            "grid_template_columns": null,
            "grid_template_rows": null,
            "height": null,
            "justify_content": null,
            "justify_items": null,
            "left": null,
            "margin": null,
            "max_height": null,
            "max_width": null,
            "min_height": null,
            "min_width": null,
            "object_fit": null,
            "object_position": null,
            "order": null,
            "overflow": null,
            "overflow_x": null,
            "overflow_y": null,
            "padding": null,
            "right": null,
            "top": null,
            "visibility": null,
            "width": null
          }
        },
        "0c731b4e615b4d74b26280cd804fa451": {
          "model_module": "@jupyter-widgets/controls",
          "model_name": "DescriptionStyleModel",
          "model_module_version": "1.5.0",
          "state": {
            "_model_module": "@jupyter-widgets/controls",
            "_model_module_version": "1.5.0",
            "_model_name": "DescriptionStyleModel",
            "_view_count": null,
            "_view_module": "@jupyter-widgets/base",
            "_view_module_version": "1.2.0",
            "_view_name": "StyleView",
            "description_width": ""
          }
        }
      }
    }
  },
  "cells": [
    {
      "cell_type": "markdown",
      "source": [
        "#### Импортирование библиотек"
      ],
      "metadata": {
        "id": "b6NE8UhBAch-"
      }
    },
    {
      "cell_type": "code",
      "source": [
        "!pip install transformers[torch]\n",
        "!pip install accelerate -U\n",
        "!pip install datasets\n",
        "!pip install trl\n",
        "!pip install transformers"
      ],
      "metadata": {
        "id": "vVJlmi8TN7H8"
      },
      "execution_count": null,
      "outputs": []
    },
    {
      "cell_type": "markdown",
      "source": [
        "### Парсер + Датасет\n"
      ],
      "metadata": {
        "id": "cZ1liuuYAnxO"
      }
    },
    {
      "cell_type": "code",
      "source": [
        "# Feedback into Json-file\n",
        "\n",
        "feedback = {'feedbacks': [[{'content':'Отзыв', \"text\": \"Сыну оформили кредит на обучение,он не работает студент. С его слов ,что он работает у папы, банк выдал потребительский кредит ,со ставкой 35% и смс оповещения за 90р,не были запрошены справки ндфл,нарушение полное,так не работают,просто мошенничество натуральное. Со слов ,что он работает дают кредиты,выйдете на улицу да давайте всем кредиты без справок и со слов. Просто банк проститься надо с этим кредитом,не правильно оформленным.\"}, {'content':'Улучшение', \"text\": \"Важно соблюдать строгие процедуры проверки при выдаче кредитов, чтобы предотвратить мошенничество и снизить риски для банка и клиентов. Необходимо усовершенствовать систему проверки заявителей и требовать более документальное подтверждение доходов, чтобы избежать подобных ситуаций и обеспечить безопасность финансовых операций.\"}], [{'content':'Отзыв', \"text\": \"Оформила карту благодаря ребенку. Он давно мечтал о своей карте, но чтобы это провернуть, необходим взрослый. Ну, вот, теперь у меня и у него есть карты - Tinkoff Black и Tinkoff Junior соответственно. Хотя, картой пользуюсь всего несколько дней, плюсы нашла сразу. Во-первых, быстрое оформление. Сотрудник Банка все доходчиво объяснила. Предложила сим-карту мобайл, что тоже очень порадовало, можно тариф самому выбирать и цены приятно удивили за тариф. Во-вторых, удобное мобильное приложение. В-третьих, порадовало то, что каждый месяц будут предлагать кэшбэк на ряд категорий, которые ты сам выбираешь. В-четвёртых, кэшбэк 1% на все. Это очень удобно, особенно если живешь в маленьком городе и супермаркетов не так много. А в магазин за едой все равно надо идти. Еще плюс, что средства возвращаются рублями. Есть бесплатные переводы, что тоже не мало важно. И последний плюс (при использовании карты далее, думаю, их будет больше) можно \\\"следить\\\" за тратами ребенка, стимулировать его на заработок, давая задания. Спасибо, что вы есть! С уважением, Ваш клиент.\"},  {'content':'Улучшение', \"text\": \"Поощрять использование карты вместе с детьми, предлагая им возможность управлять своими финансами и получать кэшбэк на покупки в различных категориях, что способствует формированию финансовой грамотности и ответственного отношения к деньгам с раннего возраста. Развивать функционал мобильного приложения, обеспечивая удобство и прозрачность в управлении счетом и отслеживании расходов. Повышать привлекательность карты для клиентов, предлагая выгодные условия тарифов и возможность бесплатных переводов для удобства использования.\"}], [{'content':'Отзыв', \"text\": \"Хороший банк! Отличная работа и очень удобная карта Тинькофф Блэк. Много прикольных бонусов и кэшбеков (особенно с подпиской Тинькофф Про). Полностью перешла на данный банк и ни о чем не жалею. Поддержка всегда поможешь, если есть вопросы и подробно в кратчайшие сроки все объяснит! Всем рекомендую!\"}, {'content':'Улучшение', \"text\": \"Продолжать предлагать клиентам широкий спектр бонусов и кэшбеков, улучшая условия сотрудничества и привлекая новых пользователей. Постоянно совершенствовать качество обслуживания клиентов, обеспечивая оперативную и компетентную поддержку, что способствует удовлетворенности и лояльности клиентов.\"}], [{'content':'Отзыв', \"text\": \"Банк с самой лучшей службой поддержки, молодцы, компетентные, вежливые, терпеливые. Когда пишу в службу поддержки, всегда уверена в скором ответе и в оперативном решении вопросов. Клиентоориентированность 100%. Услуги самого банка тоже радуют, пользуюсь больше всего именно продуктами этого банка. Рекомендую от души.\"}, {'content':'Улучшение', \"text\": \"Дальнейшее развитие и поддержка высокого уровня клиентоориентированности, обеспечивая компетентное, вежливое и оперативное обслуживание клиентов. Усиление усилий по улучшению качества предоставляемых услуг и разработке новых продуктов, чтобы удовлетворить потребности клиентов и поддерживать их лояльность к банку.\"}], [{'content':'Отзыв', \"text\": \"Хочу поделиться опытом страхования в тинькофф. Во первых они практически единственные кто страхует молодых водителей с маленьким опытом и возрастом до 23 лет( дочь получила в/у и некто не хотел страхвать). Во вторых все очень удобно и быстро , без обращения в офис застраховал и в течение часа получил документы по почте,  а сегодня продал автомобиль и также отправил в чат тинькофф фото паспорта, договора , заявление и реквизиты счета и через 15 минут получил возврат неиспользованых средств . Все быстро и удобно.\"}, {'content':'Улучшение', \"text\": \"Повышать доступность страховых услуг для молодых водителей с маленьким опытом и возрастом до 23 лет, предоставляя им возможность застраховать свои автомобили без дополнительных сложностей и ограничений. Совершенствовать процессы оформления и обслуживания страховых полисов, обеспечивая клиентам быструю и удобную процедуру как при покупке, так и при расторжении страховки.\"}], [{'content':'Отзыв', \"text\": \"Отличный банк! Пользоваться картой Tinkoff black очень выгодно, при покупке получаешь с каждой покупки кэшбек, предварительно настроив с чего хочешь получать кэшбек. Приложение отличное все понятно и доступно, плюс техподдержка 24/7 в помощь. Оценка отлично! Рекомендую всем!!!\"}, {'content':'Улучшение', \"text\": \"Усиливать усилия по продвижению и распространению карты Tinkoff Black, подчеркивая ее выгодные условия использования и привлекательные возможности получения кэшбека. Постоянно совершенствовать функционал мобильного приложения, делая его более интуитивно понятным и удобным для пользователей. Обеспечивать оперативную и качественную техническую поддержку клиентов круглосуточно, что способствует удовлетворенности и лояльности клиентов.\"}], [{'content':'Отзыв', \"text\": \"Быстрое решение любого возникшего вопроса, хорошие условия как по дебетовым, так и кредитным картам, кешбек радует, что ещё нужно для использования каждый день)\"}, {'content':'Улучшение', \"text\": \"Дальнейшее развитие и совершенствование условий предоставления дебетовых и кредитных карт, обеспечивая клиентам еще больше удобств и привилегий. Увеличение ассортимента категорий для кэшбека, чтобы клиенты могли получать выгоду от своих ежедневных покупок. Поддерживать высокий уровень оперативности и эффективности решения любых возникающих вопросов клиентов, обеспечивая им уверенность и комфорт при использовании банковских услуг.\"}], [{'content':'Отзыв', \"text\": \"Тинькофф самый лучший банк, которым я когда либо пользовалась, удобное приложение, доставка карты до дома, хорошие условия вкладов и расчётных карт. Отзывчивые и доброжелательные работники и приятный сервис.\"}, {'content':'Улучшение', \"text\": \"Продолжать развивать удобное мобильное приложение и предлагать услугу доставки карты до дома, что делает процесс обслуживания более комфортным и удобным для клиентов. Улучшать условия предоставления вкладов и расчетных карт, учитывая потребности и желания клиентов. Поддерживать высокий уровень отзывчивости и доброжелательности работников, обеспечивая клиентам приятный опыт общения и обслуживания в банке.\"}], [{'content':'Отзыв', \"text\": \"Хочу выразить благодарность всей команде Тинькофф банк,которая работала с моим обращением 5-9832039686252!Решили задачу,которая мне казалась нерешаемой,за сутки!Всегда были на связи,отвечали быстро,четко,по делу на все мои вопросы,настоящие профессионалы не первый раз сталкиваюсь с разного рода вопросами и трудностями,но никогда не было такого,что мой вопрос не решили или не объяснили как поступить\"}, {'content':'Улучшение', \"text\": \"Продолжать поддерживать высокий уровень профессионализма и оперативности в решении вопросов клиентов, обеспечивая им быструю и четкую консультацию по всем возникающим вопросам. Постоянно совершенствовать процессы работы с обращениями клиентов, чтобы минимизировать время на решение задач и улучшить удовлетворенность клиентов от обслуживания.\"}], [{'content':'Отзыв', \"text\": \"У меня лет семь кредитная карта банка. В принципе всё устраивает пока. Хорошая поддержка, по крайней мере была раньше. Давно не обращался. Единственное, что выводит из себя, звонки менеджеров, которые навязывают разные продукты банка типа страховки. Поэтому одну звезду снимаю.\"}, {'content':'Улучшение', \"text\": \"Снижение активности звонков менеджеров, предлагающих дополнительные продукты банка, чтобы не вызывать раздражение и негативные эмоции у клиентов. Обеспечение более сбалансированного подхода к клиентскому сервису, учитывая индивидуальные предпочтения и потребности клиентов, а также их отношение к прямым маркетинговым предложениям.\"}]]}\n",
        "\n",
        "import json\n",
        "\n",
        "with open('data.json', 'w') as file:\n",
        "  json.dump(feedback, file)\n",
        "\n",
        "#Import feedback\n",
        "with open('data.json') as json_file:\n",
        "  data = json.load(json_file)\n",
        "\n",
        "from datasets import Dataset\n",
        "\n",
        "ds = Dataset.from_dict(data)\n",
        "ds[1]"
      ],
      "metadata": {
        "colab": {
          "base_uri": "https://localhost:8080/"
        },
        "id": "VyCVbJYDAs8b",
        "outputId": "9bb11ad4-c3f8-43d8-97b3-3dcf9b2935ea"
      },
      "execution_count": null,
      "outputs": [
        {
          "output_type": "execute_result",
          "data": {
            "text/plain": [
              "{'feedbacks': [{'content': 'Отзыв',\n",
              "   'text': 'Оформила карту благодаря ребенку. Он давно мечтал о своей карте, но чтобы это провернуть, необходим взрослый. Ну, вот, теперь у меня и у него есть карты - Tinkoff Black и Tinkoff Junior соответственно. Хотя, картой пользуюсь всего несколько дней, плюсы нашла сразу. Во-первых, быстрое оформление. Сотрудник Банка все доходчиво объяснила. Предложила сим-карту мобайл, что тоже очень порадовало, можно тариф самому выбирать и цены приятно удивили за тариф. Во-вторых, удобное мобильное приложение. В-третьих, порадовало то, что каждый месяц будут предлагать кэшбэк на ряд категорий, которые ты сам выбираешь. В-четвёртых, кэшбэк 1% на все. Это очень удобно, особенно если живешь в маленьком городе и супермаркетов не так много. А в магазин за едой все равно надо идти. Еще плюс, что средства возвращаются рублями. Есть бесплатные переводы, что тоже не мало важно. И последний плюс (при использовании карты далее, думаю, их будет больше) можно \"следить\" за тратами ребенка, стимулировать его на заработок, давая задания. Спасибо, что вы есть! С уважением, Ваш клиент.'},\n",
              "  {'content': 'Улучшение',\n",
              "   'text': 'Поощрять использование карты вместе с детьми, предлагая им возможность управлять своими финансами и получать кэшбэк на покупки в различных категориях, что способствует формированию финансовой грамотности и ответственного отношения к деньгам с раннего возраста. Развивать функционал мобильного приложения, обеспечивая удобство и прозрачность в управлении счетом и отслеживании расходов. Повышать привлекательность карты для клиентов, предлагая выгодные условия тарифов и возможность бесплатных переводов для удобства использования.'}]}"
            ]
          },
          "metadata": {},
          "execution_count": 15
        }
      ]
    },
    {
      "cell_type": "markdown",
      "source": [
        "### Код с нейронкой"
      ],
      "metadata": {
        "id": "OaIarovTAt06"
      }
    },
    {
      "cell_type": "code",
      "source": [
        "from transformers import AutoModelForCausalLM, AutoTokenizer\n",
        "from datasets import load_dataset\n",
        "from trl import SFTTrainer, DataCollatorForCompletionOnlyLM\n",
        "\n",
        "\n",
        "\n",
        "model = AutoModelForCausalLM.from_pretrained(\"facebook/opt-350m\")\n",
        "tokenizer = AutoTokenizer.from_pretrained(\"facebook/opt-350m\")\n",
        "tokenizer.chat_template = \"{% if not add_generation_prompt is defined %}{% set add_generation_prompt = false %}{% endif %}{% for message in messages %}{% if message['content'] == 'Отзыв' %}{{ '#### Отзыв' + ':\\n' +  message['text'] + '\\n' }}{% elif message['content'] ==  'Улучшение' %}{{ '#### Улучшение' + ':\\n' + message['text'] + '\\n' }}{% endif %}{% endfor %}{% if add_generation_prompt %}{{ '#### Отзыв:\\n' }}{% endif %}\""
      ],
      "metadata": {
        "id": "3MZNSOfekXCK"
      },
      "execution_count": null,
      "outputs": []
    },
    {
      "cell_type": "code",
      "source": [
        "def formatting_prompts_func(example: list[dict]):\n",
        "  result = []\n",
        "  for feedback in example['feedbacks']:\n",
        "    text = tokenizer.apply_chat_template(feedback, tokenize=False, add_generation_prompt=False)\n",
        "    text = tokenizer.apply_chat_template(feedback, tokenize=False, add_generation_prompt=False)\n",
        "    result.append(text)\n",
        "  return result"
      ],
      "metadata": {
        "id": "GgRIrCNRq_kY"
      },
      "execution_count": null,
      "outputs": []
    },
    {
      "cell_type": "code",
      "source": [
        "print(formatting_prompts_func(ds)[-1])"
      ],
      "metadata": {
        "colab": {
          "base_uri": "https://localhost:8080/"
        },
        "id": "DB7SOLWDvBkn",
        "outputId": "7c1fd4f4-ba4d-4770-d7f4-b04eb9f185d2"
      },
      "execution_count": null,
      "outputs": [
        {
          "output_type": "stream",
          "name": "stdout",
          "text": [
            "#### Отзыв:\n",
            "У меня лет семь кредитная карта банка. В принципе всё устраивает пока. Хорошая поддержка, по крайней мере была раньше. Давно не обращался. Единственное, что выводит из себя, звонки менеджеров, которые навязывают разные продукты банка типа страховки. Поэтому одну звезду снимаю.\n",
            "#### Улучшение:\n",
            "Снижение активности звонков менеджеров, предлагающих дополнительные продукты банка, чтобы не вызывать раздражение и негативные эмоции у клиентов. Обеспечение более сбалансированного подхода к клиентскому сервису, учитывая индивидуальные предпочтения и потребности клиентов, а также их отношение к прямым маркетинговым предложениям.\n",
            "\n"
          ]
        }
      ]
    },
    {
      "cell_type": "code",
      "source": [
        "instruction_template = \"#### Отзыв:\"\n",
        "response_template = \"#### Улучшение:\"\n",
        "collator = DataCollatorForCompletionOnlyLM(instruction_template=instruction_template, response_template=response_template, tokenizer=tokenizer, mlm=False)\n",
        "\n",
        "trainer = SFTTrainer(\n",
        "    model,\n",
        "    train_dataset=ds,\n",
        "    formatting_func=formatting_prompts_func,\n",
        "    data_collator=collator,\n",
        ")\n",
        "\n",
        "trainer.train()"
      ],
      "metadata": {
        "colab": {
          "base_uri": "https://localhost:8080/",
          "height": 249,
          "referenced_widgets": [
            "c7232fed28ca4cbc85fd081fa0aee033",
            "4d15c7e1ec0d4e169b7306450ff26f3f",
            "28432c085e64457e85886b07a98b50d3",
            "6993f271bc484f8e86364479e4a730f7",
            "7196bb662eff4b4ab0e7e024f15ec634",
            "f8faacb7b01f4b758140b4a896bc5bda",
            "6b0d8990229f430db69998648ceb6cbc",
            "7c6169fcc94a498aad81509f20dd41b8",
            "2e0389f1e7ef4398ab6372255de23a44",
            "383efbf5759b4905a1df60aab2256151",
            "0c731b4e615b4d74b26280cd804fa451"
          ]
        },
        "id": "fNDOzzNNwBfq",
        "outputId": "dab4e785-9c42-4727-84e4-90b583466d76"
      },
      "execution_count": null,
      "outputs": [
        {
          "output_type": "stream",
          "name": "stderr",
          "text": [
            "/usr/local/lib/python3.10/dist-packages/trl/trainer/sft_trainer.py:245: UserWarning: You didn't pass a `max_seq_length` argument to the SFTTrainer, this will default to 1024\n",
            "  warnings.warn(\n"
          ]
        },
        {
          "output_type": "display_data",
          "data": {
            "text/plain": [
              "Map:   0%|          | 0/1 [00:00<?, ? examples/s]"
            ],
            "application/vnd.jupyter.widget-view+json": {
              "version_major": 2,
              "version_minor": 0,
              "model_id": "c7232fed28ca4cbc85fd081fa0aee033"
            }
          },
          "metadata": {}
        },
        {
          "output_type": "stream",
          "name": "stderr",
          "text": [
            "/usr/local/lib/python3.10/dist-packages/accelerate/accelerator.py:432: FutureWarning: Passing the following arguments to `Accelerator` is deprecated and will be removed in version 1.0 of Accelerate: dict_keys(['dispatch_batches', 'split_batches', 'even_batches', 'use_seedable_sampler']). Please pass an `accelerate.DataLoaderConfiguration` instead: \n",
            "dataloader_config = DataLoaderConfiguration(dispatch_batches=None, split_batches=False, even_batches=True, use_seedable_sampler=True)\n",
            "  warnings.warn(\n"
          ]
        },
        {
          "output_type": "display_data",
          "data": {
            "text/plain": [
              "<IPython.core.display.HTML object>"
            ],
            "text/html": [
              "\n",
              "    <div>\n",
              "      \n",
              "      <progress value='3' max='3' style='width:300px; height:20px; vertical-align: middle;'></progress>\n",
              "      [3/3 00:58, Epoch 3/3]\n",
              "    </div>\n",
              "    <table border=\"1\" class=\"dataframe\">\n",
              "  <thead>\n",
              " <tr style=\"text-align: left;\">\n",
              "      <th>Step</th>\n",
              "      <th>Training Loss</th>\n",
              "    </tr>\n",
              "  </thead>\n",
              "  <tbody>\n",
              "  </tbody>\n",
              "</table><p>"
            ]
          },
          "metadata": {}
        },
        {
          "output_type": "execute_result",
          "data": {
            "text/plain": [
              "TrainOutput(global_step=3, training_loss=0.8169695536295573, metrics={'train_runtime': 93.1079, 'train_samples_per_second': 0.032, 'train_steps_per_second': 0.032, 'total_flos': 4635916222464.0, 'train_loss': 0.8169695536295573, 'epoch': 3.0})"
            ]
          },
          "metadata": {},
          "execution_count": 5
        }
      ]
    },
    {
      "cell_type": "code",
      "source": [
        "ds[0]"
      ],
      "metadata": {
        "colab": {
          "base_uri": "https://localhost:8080/"
        },
        "id": "Psl-7aNByN0Q",
        "outputId": "3dc1cab6-7a7a-4fff-a0c0-677272b1dbbd"
      },
      "execution_count": null,
      "outputs": [
        {
          "output_type": "execute_result",
          "data": {
            "text/plain": [
              "{'feedbacks': [{'content': 'Отзыв',\n",
              "   'text': 'Сыну оформили кредит на обучение,он не работает студент. С его слов ,что он работает у папы, банк выдал потребительский кредит ,со ставкой 35% и смс оповещения за 90р,не были запрошены справки ндфл,нарушение полное,так не работают,просто мошенничество натуральное. Со слов ,что он работает дают кредиты,выйдете на улицу да давайте всем кредиты без справок и со слов. Просто банк проститься надо с этим кредитом,не правильно оформленным.'},\n",
              "  {'content': 'Улучшение',\n",
              "   'text': 'Важно соблюдать строгие процедуры проверки при выдаче кредитов, чтобы предотвратить мошенничество и снизить риски для банка и клиентов. Необходимо усовершенствовать систему проверки заявителей и требовать более документальное подтверждение доходов, чтобы избежать подобных ситуаций и обеспечить безопасность финансовых операций.'}]}"
            ]
          },
          "metadata": {},
          "execution_count": 6
        }
      ]
    },
    {
      "cell_type": "code",
      "source": [
        "inputs = tokenizer('Привет', return_tensors='pt')"
      ],
      "metadata": {
        "id": "C8Gjb8isyRuT"
      },
      "execution_count": null,
      "outputs": []
    },
    {
      "cell_type": "code",
      "source": [
        "out = model.generate(inputs['input_ids'])"
      ],
      "metadata": {
        "id": "J-OVh5CJyXWf",
        "colab": {
          "base_uri": "https://localhost:8080/"
        },
        "outputId": "ef1b031c-0078-4708-ba28-65a22622cb4f"
      },
      "execution_count": null,
      "outputs": [
        {
          "output_type": "stream",
          "name": "stderr",
          "text": [
            "/usr/local/lib/python3.10/dist-packages/transformers/generation/utils.py:1178: UserWarning: Using the model-agnostic default `max_length` (=20) to control the generation length. We recommend setting `max_new_tokens` to control the maximum length of the generation.\n",
            "  warnings.warn(\n"
          ]
        }
      ]
    },
    {
      "cell_type": "code",
      "source": [
        "tokenizer.decode(out[0])"
      ],
      "metadata": {
        "id": "mADSfibzygU6",
        "colab": {
          "base_uri": "https://localhost:8080/",
          "height": 36
        },
        "outputId": "a19b627d-52d0-4771-b903-4ca6db75af7d"
      },
      "execution_count": null,
      "outputs": [
        {
          "output_type": "execute_result",
          "data": {
            "text/plain": [
              "'</s>Приветителей пров'"
            ],
            "application/vnd.google.colaboratory.intrinsic+json": {
              "type": "string"
            }
          },
          "metadata": {},
          "execution_count": 10
        }
      ]
    }
  ]
}